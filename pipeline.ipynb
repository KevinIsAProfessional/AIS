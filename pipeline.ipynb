{
 "cells": [
  {
   "cell_type": "raw",
   "metadata": {},
   "source": [
    "#Environment Set up\n",
    "\n",
    "conda create -n gee python=3\n",
    "source activate gee\n",
    "conda install -c conda-forge earthengine-api\n",
    "conda install -c anaconda pandas\n",
    "#After installing the Python GEE API, you have to run earthengine authenticate in the terminal and follow the directions. This will connect the API to your google account.\n",
    "\n",
    "#After running earthengine authenticate, you should have an environment variable set up with an authentication key, which allows you to directly initialize EE without authenticating each time"
   ]
  },
  {
   "cell_type": "code",
   "execution_count": 1,
   "metadata": {
    "scrolled": true
   },
   "outputs": [],
   "source": [
    "#Import ee and required packages\n",
    "import ee\n",
    "ee.Initialize()\n",
    "import pandas as pd \n",
    "import numpy as np\n",
    "import glob\n",
    "import geopandas as gpd\n",
    "import time\n",
    "import configparser\n",
    "\n",
    "from src.gee_funs import *\n",
    "import src.build_annual_cube as bac\n",
    "import src.preprocess_points as pp\n",
    "import src.covariates_exist as ce\n",
    "\n"
   ]
  },
  {
   "cell_type": "code",
   "execution_count": 2,
   "metadata": {},
   "outputs": [],
   "source": [
    "# Variables are defined in aisconfig.ini\n",
    "# \n",
    "\n",
    "config = configparser.ConfigParser()\n",
    "config.read('aisconfig.ini')\n",
    "\n",
    "# Define the state that presence/absence data is in\n",
    "state = config['WHENWHERE']['STATE']\n",
    "state_abbrevs = {\n",
    "    'Montana' : 'MT'\n",
    "}\n",
    "\n",
    "\n",
    "# Define your desired time range\n",
    "start_year = int(config['WHENWHERE']['START_YEAR'])\n",
    "end_year = int(config['WHENWHERE']['END_YEAR'])\n",
    "years = range(start_year, end_year)\n",
    "years_strings = [str(y) for y in years]\n",
    "\n",
    "# Define a path in GEE where\n",
    "gee_path = config['GEEPATHS']['GEE_PATH']\n",
    "\n",
    "# Define locations in GEE where presence/absence data and thinned data live\n",
    "ais_point_path = config['GEEPATHS']['AIS_POINT_PATH']\n",
    "ais_thinned_point_path = config['GEEPATHS']['AIS_THINNED_POINT_PATH']\n",
    "\n",
    "\n",
    "# Define the export location for the covariate assets\n",
    "# NOTE: Renamed from assetId to covariate_folder\n",
    "covariate_folder = config['GEEPATHS']['ASSETID']\n",
    "\n",
    "# Define the export locations for the ML model training data\n",
    "trainingdata = config['LOCALPATHS']['TRAININGDATA']\n",
    "trainingglob = config['LOCALPATHS']['TRAININGGLOB']\n",
    "\n",
    "# Define the export loction for (decade files)\n",
    "decade1 = config['LOCALPATHS']['DECADE1']\n",
    "decade2 = config['LOCALPATHS']['DECADE2'] "
   ]
  },
  {
   "cell_type": "code",
   "execution_count": 3,
   "metadata": {},
   "outputs": [],
   "source": [
    "# Choose which parts of the pipeline to run\n",
    "# These switches effectively (and crudely) turn off parts of the script\n",
    "\n",
    "# Spatial thinning should only be performed once for a presence/absence set, the result can be reused after that\n",
    "run_spatial_thinning = False\n",
    "\n",
    "# Covariate assets shouldn't change from dataset to dataset, unless you change covariates or timeframes\n",
    "# Making the assets takes upwards of 2-6 hours\n",
    "make_covariates = False"
   ]
  },
  {
   "cell_type": "code",
   "execution_count": 4,
   "metadata": {},
   "outputs": [],
   "source": [
    "# This only runs if run_spatial_thinning (defined above) is set to true\n",
    "# If you already have a thinned dataset, skip to Define Modular Variables below\n",
    "\n",
    "#Define GEE asset/location of desired dataset \n",
    "#(Formatted CSV must be uploaded to your GEE assets with Lat/Long columns defined before starting)\n",
    "if run_spatial_thinning:\n",
    "    pp.spatially_thin(ais_point_path, start_year, end_year)"
   ]
  },
  {
   "cell_type": "code",
   "execution_count": 5,
   "metadata": {},
   "outputs": [],
   "source": [
    "# If you have a spatially thinned data set, start here after initializing ee\n",
    "# embed observation Year as system:start_time for thinned dataset \n",
    "# We have had to add this \"Year Column\" manually to the datasets.  \n",
    "# Make sure your dataset has correct column headings\n",
    "SThin = ee.FeatureCollection(ais_thinned_point_path).map(embed_date)"
   ]
  },
  {
   "cell_type": "code",
   "execution_count": 6,
   "metadata": {
    "hidden": true
   },
   "outputs": [],
   "source": [
    "# Define geometry by changing state name so we can export the whole state at once\n",
    "state_geometry = ee.FeatureCollection(\"TIGER/2016/States\").filter(ee.Filter.eq('NAME',state)).geometry()\n",
    "\n",
    "# Choose state to clip HUC by. Change Abbreviation to match dataset \n",
    "#Enter state full name for X (i.e., Illinois/ look at dataset for formats for this stuff)\n",
    "HUC_clip = ee.FeatureCollection(\"USGS/WBD/2017/HUC12\").filter(ee.Filter.eq('states',state_abbrevs[state]))"
   ]
  },
  {
   "cell_type": "code",
   "execution_count": 7,
   "metadata": {
    "hidden": true,
    "scrolled": true
   },
   "outputs": [],
   "source": [
    "#Skip this step if you already have them stored in GEE\n",
    "#Export Yearly Covariate Images\n",
    "\n",
    "#========================================================\n",
    "# Run covariate algorithm and build a list of images\n",
    "# with each image corresponding to each year and each band corresponding to each covariate\n",
    "#========================================================\n",
    "if make_covariates:\n",
    "    banded_images_list = bac.build_all_cubes(start_year, end_year)\n",
    "\n",
    "    # Export each image within the for loop\n",
    "    for i,y in zip(range(len(years_strings)), years_strings):\n",
    "        print(\"Starting\", y)\n",
    "        img = ee.Image(banded_images_list.get(ee.Number(i)))\n",
    "        export = ee.batch.Export.image.toAsset(\n",
    "            image = img,\n",
    "            description = 'covariates'+y,\n",
    "            covariate_folder = covariate_folder + y, \n",
    "            region = ee.Geometry(state_geometry),\n",
    "            scale =  100,\n",
    "            maxPixels = 1e13)\n",
    "        export.start()\n",
    "\n",
    "        print(y,\"status:    \", export.status()['state'])\n",
    "\n",
    "        # Wait for 30 seconds so that the export['state'] gives insightful information\n",
    "        time.sleep(15)\n",
    "        # TODO better handle status messages\n",
    "        # while (export.status()['state'] == 'READY'):\n",
    "        #    time.sleep(15)\n",
    "\n",
    "        print(y,\"status:    \", export.status()['state'])\n",
    "\n",
    "        # If this status is \"RUNNING\", then there are no egretious syntax errors. \n",
    "        # However, it is still possible that these export commands fail after more than 30 seconds.\n",
    "        # In that case, it is likely that there is a Computation Time Out Error (remember exporting the annual stacks)\n",
    "        time.sleep(15)\n",
    "        print(y,\"status:    \", export.status()['state'])\n"
   ]
  },
  {
   "cell_type": "code",
   "execution_count": 8,
   "metadata": {},
   "outputs": [
    {
     "name": "stdout",
     "output_type": "stream",
     "text": [
      "assets_found:  ['covariates2002', 'covariates2003', 'covariates2004', 'covariates2005', 'covariates2006', 'covariates2007', 'covariates2008', 'covariates2009', 'covariates2010', 'covariates2011', 'covariates2012', 'covariates2013', 'covariates2014', 'covariates2015', 'covariates2016', 'covariates2017', '']\n",
      "expected_assets:  ['covariates2002', 'covariates2003', 'covariates2004', 'covariates2005', 'covariates2006', 'covariates2007', 'covariates2008', 'covariates2009', 'covariates2010', 'covariates2011', 'covariates2012', 'covariates2013']\n",
      "expected covariate assets were found, please PROCEED\n"
     ]
    }
   ],
   "source": [
    "if (not ce.covariates_exist(years, gee_path + 'covariates/')):\n",
    "    print('WARNING: expected covariate assets were not found in GEE')\n",
    "else:\n",
    "    print('expected covariate assets were found, please PROCEED')"
   ]
  },
  {
   "cell_type": "code",
   "execution_count": 9,
   "metadata": {
    "hidden": true,
    "scrolled": true
   },
   "outputs": [
    {
     "name": "stdout",
     "output_type": "stream",
     "text": [
      "Starting 2002\n",
      "Finished 2002\n",
      "Starting 2003\n",
      "Finished 2003\n",
      "Starting 2004\n",
      "Finished 2004\n",
      "Starting 2005\n",
      "Finished 2005\n",
      "Starting 2006\n",
      "Finished 2006\n",
      "Starting 2007\n",
      "Finished 2007\n",
      "Starting 2008\n",
      "Finished 2008\n",
      "Starting 2009\n",
      "Finished 2009\n",
      "Starting 2010\n",
      "Finished 2010\n",
      "Starting 2011\n",
      "Finished 2011\n",
      "Starting 2012\n",
      "Finished 2012\n",
      "Starting 2013\n",
      "Finished 2013\n"
     ]
    }
   ],
   "source": [
    "#Start Here if you have yearly covariates created\n",
    "\n",
    "#Export training CSVs\n",
    "## Reduce Regions from existing images\n",
    "\n",
    "# COVARIATE IMAGES  \n",
    "images = list(map(lambda x: ee.Image(covariate_folder + str(x)), years))\n",
    "\n",
    "for i in range(len(years)):\n",
    "    print(\"Starting\", start_year+i)\n",
    "    \n",
    "    data = reduce_HUCS(images[i],SThin,HUC_clip) \n",
    "    \n",
    "    ## PYTHON API MAGIC!! LOOK HERE\n",
    "    my_csv = pd.DataFrame([x['properties'] for x in data.getInfo()['features']])\n",
    "    \n",
    "    # From there, we can write it directly to our directory and stitch it together afterwards\n",
    "    my_csv.to_csv((trainingdata) + str(2002+i) + '.csv', index=False) \n",
    "    print(\"Finished\", start_year+i)"
   ]
  },
  {
   "cell_type": "code",
   "execution_count": 10,
   "metadata": {
    "hidden": true
   },
   "outputs": [],
   "source": [
    "#export the information that we will use to project habitat suitability. \n",
    "#Decades were convenient for RBT, but not other taxa with less data/ we can change.\n",
    "# Change to match dataset\n",
    "# maybe we should think about 2 and 5 year bins due to limitations of datasets for some \n",
    "# taxa / to make more useful for managers\n",
    "\n",
    "# Writes output to ./datasets/decade\n",
    " \n",
    "write_predictions_input_csv(images[:5], decade1, HUC_clip)  \n",
    "\n",
    "write_predictions_input_csv(images[5:], decade2, HUC_clip)"
   ]
  },
  {
   "cell_type": "code",
   "execution_count": 11,
   "metadata": {},
   "outputs": [
    {
     "name": "stdout",
     "output_type": "stream",
     "text": [
      "Fitting MLPClassifier\n",
      "MLPClassifier fit.\n",
      "Fitting GradientBoostingClassifier\n",
      "GradientBoostingClassifier fit.\n",
      "Fitting DecisionTreeClassifier\n",
      "DecisionTreeClassifier fit.\n",
      "Fitting RandomForestClassifier\n",
      "RandomForestClassifier fit.\n",
      "Fitting LogisticRegression\n",
      "LogisticRegression fit.\n",
      "VC accuracy score: 0.781431334622824 \n",
      "VC confusion matrix: \n",
      "[[180  64]\n",
      " [ 49 224]]\n",
      "Considering RandomForestClassifier(random_state=73)\n",
      "Fitting estimator with 15 features.\n",
      "Fitting estimator with 14 features.\n",
      "Fitting estimator with 13 features.\n",
      "Fitting estimator with 12 features.\n",
      "Fitting estimator with 11 features.\n",
      "Fitting estimator with 10 features.\n",
      "Fitting estimator with 9 features.\n",
      "Fitting estimator with 8 features.\n",
      "Fitting estimator with 7 features.\n",
      "Fitting estimator with 6 features.\n",
      "Fitting estimator with 5 features.\n",
      "Fitting estimator with 4 features.\n",
      "Considering LogisticRegression(max_iter=10000, random_state=73)\n",
      "Fitting estimator with 15 features.\n",
      "Fitting estimator with 14 features.\n",
      "Fitting estimator with 13 features.\n",
      "Fitting estimator with 12 features.\n",
      "Fitting estimator with 11 features.\n",
      "Fitting estimator with 10 features.\n",
      "Fitting estimator with 9 features.\n",
      "Fitting estimator with 8 features.\n",
      "Fitting estimator with 7 features.\n",
      "Fitting estimator with 6 features.\n",
      "Fitting estimator with 5 features.\n",
      "Fitting estimator with 4 features.\n",
      "Considering GradientBoostingClassifier(random_state=73)\n",
      "Fitting estimator with 15 features.\n",
      "Fitting estimator with 14 features.\n",
      "Fitting estimator with 13 features.\n",
      "Fitting estimator with 12 features.\n",
      "Fitting estimator with 11 features.\n",
      "Fitting estimator with 10 features.\n",
      "Fitting estimator with 9 features.\n",
      "Fitting estimator with 8 features.\n",
      "Fitting estimator with 7 features.\n",
      "Fitting estimator with 6 features.\n",
      "Fitting estimator with 5 features.\n",
      "Fitting estimator with 4 features.\n",
      "Considering DecisionTreeClassifier(random_state=73)\n",
      "Fitting estimator with 15 features.\n",
      "Fitting estimator with 14 features.\n",
      "Fitting estimator with 13 features.\n",
      "Fitting estimator with 12 features.\n",
      "Fitting estimator with 11 features.\n",
      "Fitting estimator with 10 features.\n",
      "Fitting estimator with 9 features.\n",
      "Fitting estimator with 8 features.\n",
      "Fitting estimator with 7 features.\n",
      "Fitting estimator with 6 features.\n",
      "Fitting estimator with 5 features.\n",
      "Fitting estimator with 4 features.\n",
      "Done\n"
     ]
    },
    {
     "data": {
      "image/png": "[encoded data removed]",
      "text/plain": [
       "<Figure size 576x288 with 1 Axes>"
      ]
     },
     "metadata": {
      "needs_background": "light"
     },
     "output_type": "display_data"
    }
   ],
   "source": [
    "import src.ml_script"
   ]
  },
  {
   "cell_type": "code",
   "execution_count": null,
   "metadata": {},
   "outputs": [],
   "source": []
  }
 ],
 "metadata": {
  "kernelspec": {
   "display_name": "Python 3",
   "language": "python",
   "name": "python3"
  },
  "language_info": {
   "codemirror_mode": {
    "name": "ipython",
    "version": 3
   },
   "file_extension": ".py",
   "mimetype": "text/x-python",
   "name": "python",
   "nbconvert_exporter": "python",
   "pygments_lexer": "ipython3",
   "version": "3.9.5"
  },
  "notify_time": "5",
  "toc": {
   "base_numbering": 1,
   "nav_menu": {},
   "number_sections": true,
   "sideBar": true,
   "skip_h1_title": false,
   "title_cell": "Table of Contents",
   "title_sidebar": "Contents",
   "toc_cell": false,
   "toc_position": {},
   "toc_section_display": true,
   "toc_window_display": true
  },
  "varInspector": {
   "cols": {
    "lenName": 16,
    "lenType": 16,
    "lenVar": 40
   },
   "kernels_config": {
    "python": {
     "delete_cmd_postfix": "",
     "delete_cmd_prefix": "del ",
     "library": "var_list.py",
     "varRefreshCmd": "print(var_dic_list())"
    },
    "r": {
     "delete_cmd_postfix": ") ",
     "delete_cmd_prefix": "rm(",
     "library": "var_list.r",
     "varRefreshCmd": "cat(var_dic_list()) "
    }
   },
   "position": {
    "height": "144.716px",
    "left": "1374.44px",
    "right": "20px",
    "top": "59.9943px",
    "width": "350px"
   },
   "types_to_exclude": [
    "module",
    "function",
    "builtin_function_or_method",
    "instance",
    "_Feature"
   ],
   "window_display": false
  }
 },
 "nbformat": 4,
 "nbformat_minor": 4
}
